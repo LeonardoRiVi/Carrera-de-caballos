{
  "nbformat": 4,
  "nbformat_minor": 0,
  "metadata": {
    "colab": {
      "name": "Copia de Untitled5.ipynb",
      "provenance": [],
      "authorship_tag": "ABX9TyO3MJgGa9zB9j5SARD9Z1d5",
      "include_colab_link": true
    },
    "kernelspec": {
      "name": "python3",
      "display_name": "Python 3"
    },
    "language_info": {
      "name": "python"
    }
  },
  "cells": [
    {
      "cell_type": "markdown",
      "metadata": {
        "id": "view-in-github",
        "colab_type": "text"
      },
      "source": [
        "<a href=\"https://colab.research.google.com/github/LeonardoRiVi/Carrera-de-caballos/blob/main/Copia_de_Untitled5.ipynb\" target=\"_parent\"><img src=\"https://colab.research.google.com/assets/colab-badge.svg\" alt=\"Open In Colab\"/></a>"
      ]
    },
    {
      "cell_type": "code",
      "execution_count": null,
      "metadata": {
        "id": "K1JxhOsE-S85"
      },
      "outputs": [],
      "source": [
        "import networkx as nx\n",
        "import matplotlib.pyplot as plt"
      ]
    },
    {
      "cell_type": "code",
      "source": [
        "# create class for graph visualization\n",
        "class GraphVisualization:\n",
        "  def __init__(self, graph):\n",
        "    self.G = nx.Graph()\n",
        "    self.graph = graph\n",
        "    self.nodes = list(graph.keys())\n",
        "\n",
        "  # method for add edges\n",
        "  def addEdge(self, a, b, dif):\n",
        "    self.G.add_edge(a, b, dif=dif)\n",
        "  \n",
        "  # method for visualize a graph\n",
        "  def visualize(self):\n",
        "    pos = nx.spring_layout(self.G)\n",
        "    diff = nx.get_edge_attributes(self.G, \"dif\")\n",
        "\n",
        "    self.G.add_nodes_from(self.nodes)\n",
        "    plt.figure()\n",
        "    nx.draw(\n",
        "      self.G, pos, edge_color='black', width=1, linewidths=1,\n",
        "      node_size=500, node_color='pink', alpha=0.9,\n",
        "      labels={node: node for node in self.G.nodes()}\n",
        "    )\n",
        "    nx.draw_networkx_edge_labels(self.G, pos, edge_labels=diff)\n",
        "    plt.axis('off')\n",
        "    plt.show()\n",
        "\n",
        "  # visualize a graph\n",
        "  def graph_visualize(self):\n",
        "    for i in self.graph:\n",
        "      for j in self.graph[i]:\n",
        "        self.addEdge(i, j['v'], j['w'])\n",
        "\n",
        "    self.visualize()"
      ],
      "metadata": {
        "id": "EkseFQV4-jyf"
      },
      "execution_count": null,
      "outputs": []
    },
    {
      "cell_type": "code",
      "source": [
        "# Created graph\n",
        "graph = {\n",
        "    'A': [{'v': 'B','w': 4}, {'v': 'C','w': 2}],\n",
        "    'B': [{'v': 'A','w': 4}, {'v': 'C','w': 6}, {'v': 'D','w': 5},{'v': 'E','w': 2}],\n",
        "    'C': [{'v': 'A','w': 2}, {'v': 'B','w': 1}, {'v': 'D','w': 8}, {'v': 'E','w': 10}],\n",
        "    'D': [{'v': 'B','w': 5}, {'v': 'C','w': 8}, {'v': 'E','w': 2}, {'v': 'Z','w': 1}],\n",
        "    'E': [{'v': 'C','w': 10}, {'v': 'D','w': 2}, {'v': 'Z','w': 3}],\n",
        "    'Z': [{'v': 'D','w': 1}, {'v': 'E','w': 3}]\n",
        "}"
      ],
      "metadata": {
        "id": "VHvYOzf9-k1w"
      },
      "execution_count": null,
      "outputs": []
    },
    {
      "cell_type": "code",
      "source": [
        "# visualize graph\n",
        "G = GraphVisualization(graph=graph)\n",
        "G.graph_visualize()"
      ],
      "metadata": {
        "colab": {
          "base_uri": "https://localhost:8080/",
          "height": 319
        },
        "id": "B51L8jVv-p5J",
        "outputId": "ac2b17e2-b1bb-4c73-d3e5-ae05b7ca517a"
      },
      "execution_count": null,
      "outputs": [
        {
          "output_type": "display_data",
          "data": {
            "text/plain": [
              "<Figure size 432x288 with 1 Axes>"
            ],
            "image/png": "[encoded data removed]"
          },
          "metadata": {}
        }
      ]
    },
    {
      "cell_type": "code",
      "source": [
        "# function for get path weight\n",
        "def get_path_dif(path):\n",
        "  path_dif = 0\n",
        "\n",
        "  for index, value in enumerate(path):\n",
        "    try:\n",
        "      for j in graph[value]:\n",
        "        if j['v'] == path[index + 1]:\n",
        "            path_dif += j['w']\n",
        "    except:\n",
        "      break\n",
        "\n",
        "  return path_dif"
      ],
      "metadata": {
        "id": "gvq-WhW0-tup"
      },
      "execution_count": null,
      "outputs": []
    },
    {
      "cell_type": "code",
      "source": [
        "# function to find the shortest path (dijkstra algorithm)\n",
        "def find_shortest_path(graph, start, end, path =[]):\n",
        "  path = path + [start]\n",
        "  shortest = None\n",
        "  diff = None\n",
        "\n",
        "  if start == end: return path\n",
        "\n",
        "  for node in graph[start]:\n",
        "      if node['v'] not in path:\n",
        "          newpath = find_shortest_path(graph, node['v'], end, path)\n",
        "          if newpath:\n",
        "            new_difc = get_path_dif(newpath)\n",
        "            if not diff or new_difc < diff:\n",
        "              shortest = newpath\n",
        "              diff = new_difc\n",
        "\n",
        "  return shortest"
      ],
      "metadata": {
        "id": "csZWdkgz-0v7"
      },
      "execution_count": null,
      "outputs": []
    },
    {
      "cell_type": "code",
      "source": [
        "shortest_path = find_shortest_path(graph, 'A', 'Z')\n",
        "dif_shortest_path = get_path_dif(shortest_path)\n",
        "\n",
        "print('Shortest Path :', shortest_path)\n",
        "print('Dif :', dif_shortest_path)"
      ],
      "metadata": {
        "colab": {
          "base_uri": "https://localhost:8080/"
        },
        "id": "KP892wIA-355",
        "outputId": "1dfd9f90-57d2-42e9-f61c-48c0bb7d26ab"
      },
      "execution_count": null,
      "outputs": [
        {
          "output_type": "stream",
          "name": "stdout",
          "text": [
            "Shortest Path : ['A', 'C', 'B', 'E', 'D', 'Z']\n",
            "Dif : 8\n"
          ]
        }
      ]
    },
    {
      "cell_type": "code",
      "source": [
        "shortest_graph = {}\n",
        "\n",
        "# generate shortest_graph\n",
        "for index, value in enumerate(shortest_path):\n",
        "  try:\n",
        "    for j in graph[value]:\n",
        "      if j['v'] == shortest_path[index + 1]:\n",
        "        shortest_graph.update({value: [j]})\n",
        "  except:\n",
        "    break\n",
        "\n",
        "# Visualize shortest path\n",
        "S = GraphVisualization(shortest_graph)\n",
        "\n",
        "for i in shortest_graph:\n",
        "  for j in shortest_graph[i]:\n",
        "        S.addEdge(i, j['v'], j['w'])\n",
        "\n",
        "S.visualize()"
      ],
      "metadata": {
        "colab": {
          "base_uri": "https://localhost:8080/",
          "height": 319
        },
        "id": "4PA-YKkt-4uW",
        "outputId": "5eef3082-a67a-4522-b0f8-4d046231c667"
      },
      "execution_count": null,
      "outputs": [
        {
          "output_type": "display_data",
          "data": {
            "text/plain": [
              "<Figure size 432x288 with 1 Axes>"
            ],
            "image/png": "[encoded data removed]"
          },
          "metadata": {}
        }
      ]
    }
  ]
}